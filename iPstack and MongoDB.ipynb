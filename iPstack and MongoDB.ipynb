{
 "cells": [
  {
   "cell_type": "markdown",
   "id": "d95c2b55",
   "metadata": {},
   "source": [
    "## iPstack and MongoDB"
   ]
  },
  {
   "cell_type": "code",
   "execution_count": 2,
   "id": "65b7993b",
   "metadata": {},
   "outputs": [],
   "source": [
    "# Import packages\n",
    "from pymongo import MongoClient\n",
    "from bs4 import BeautifulSoup\n",
    "import requests\n",
    "import json\n",
    "import time"
   ]
  },
  {
   "cell_type": "markdown",
   "id": "932884e4",
   "metadata": {},
   "source": [
    "### Connect to MongoDB"
   ]
  },
  {
   "cell_type": "code",
   "execution_count": 8,
   "id": "ba9c6b80",
   "metadata": {},
   "outputs": [],
   "source": [
    "# Connect to local MongoDB instance\n",
    "mo_c = MongoClient()\n",
    "client = MongoClient('localhost', 27017)"
   ]
  },
  {
   "cell_type": "code",
   "execution_count": 15,
   "id": "470c798b",
   "metadata": {
    "scrolled": true
   },
   "outputs": [
    {
     "data": {
      "text/plain": [
       "InsertOneResult(ObjectId('65f0e26306617cd89f386350'), acknowledged=True)"
      ]
     },
     "execution_count": 15,
     "metadata": {},
     "output_type": "execute_result"
    }
   ],
   "source": [
    "# Create a database named 'msba'\n",
    "db = client[\"msba\"]\n",
    "\n",
    "# Create a collection\n",
    "collection = db[\"ip_addresses\"]\n",
    "\n",
    "# Insert document into the collection\n",
    "collection.insert_one({\"ip\": \"192.168.1.1\", \"city\": \"Davis\", \"zip\": \"95616\"})"
   ]
  },
  {
   "cell_type": "code",
   "execution_count": 22,
   "id": "5dfc407a",
   "metadata": {
    "scrolled": true
   },
   "outputs": [
    {
     "data": {
      "text/plain": [
       "{'_id': ObjectId('65f0e26306617cd89f386350'),\n",
       " 'ip': '192.168.1.1',\n",
       " 'city': 'Davis',\n",
       " 'zip': '95616'}"
      ]
     },
     "execution_count": 22,
     "metadata": {},
     "output_type": "execute_result"
    }
   ],
   "source": [
    "# Check the collection\n",
    "db.ip_addresses.find_one({})"
   ]
  },
  {
   "cell_type": "markdown",
   "id": "fcb8f253",
   "metadata": {},
   "source": [
    "### Get API Access and Main Fields for IP Addresses\n",
    "- My free API key: c14ff1bfdeef31dd594fe473546cfa08\n",
    "- My IP address: 71.204.188.203"
   ]
  },
  {
   "cell_type": "code",
   "execution_count": 39,
   "id": "d6f84b21",
   "metadata": {},
   "outputs": [],
   "source": [
    "# Define access_key and output formate\n",
    "url = \"http://api.ipstack.com/8.8.8.8\"\n",
    "access_key = \"c14ff1bfdeef31dd594fe473546cfa08\"\n",
    "output_format = \"json\"\n",
    "\n",
    "# Build params for the request\n",
    "params = {\n",
    "    \"access_key\": access_key,\n",
    "    \"output\": output_format\n",
    "}"
   ]
  },
  {
   "cell_type": "code",
   "execution_count": 44,
   "id": "2e221383",
   "metadata": {},
   "outputs": [
    {
     "name": "stdout",
     "output_type": "stream",
     "text": [
      "{'ip': '8.8.8.8', 'type': 'ipv4', 'continent_code': 'NA', 'continent_name': 'North America', 'country_code': 'US', 'country_name': 'United States', 'region_code': 'OH', 'region_name': 'Ohio', 'city': 'Glenmont', 'zip': '44628', 'latitude': 40.5369987487793, 'longitude': -82.12859344482422, 'location': {'geoname_id': None, 'capital': 'Washington D.C.', 'languages': [{'code': 'en', 'name': 'English', 'native': 'English'}], 'country_flag': 'https://assets.ipstack.com/flags/us.svg', 'country_flag_emoji': '🇺🇸', 'country_flag_emoji_unicode': 'U+1F1FA U+1F1F8', 'calling_code': '1', 'is_eu': False}}\n"
     ]
    }
   ],
   "source": [
    "# Define the first url link and send the get request\n",
    "url = \"http://api.ipstack.com/8.8.8.8\"\n",
    "\n",
    "# Pause between two requests\n",
    "time.sleep(5)\n",
    "\n",
    "# Send the get request\n",
    "response = requests.get(url, params=params)\n",
    "\n",
    "# Extract and print the content\n",
    "doc = BeautifulSoup(response.content, 'html.parser')\n",
    "json_dict = json.loads(str(doc))\n",
    "print(json_dict)"
   ]
  },
  {
   "cell_type": "markdown",
   "id": "9d523e20",
   "metadata": {},
   "source": [
    "### API Call Program"
   ]
  },
  {
   "cell_type": "code",
   "execution_count": 45,
   "id": "56a14006",
   "metadata": {},
   "outputs": [],
   "source": [
    "# Create a url links list\n",
    "url_list = [\"http://api.ipstack.com/8.8.8.8\", \"http://api.ipstack.com/128.120.0.25\", \n",
    "            \"http://api.ipstack.com/128.32.12.14\", \"http://api.ipstack.com/64.165.72.144\",\n",
    "            \"http://api.ipstack.com/71.204.188.203\"]"
   ]
  },
  {
   "cell_type": "code",
   "execution_count": 49,
   "id": "8ddf1563",
   "metadata": {},
   "outputs": [
    {
     "name": "stdout",
     "output_type": "stream",
     "text": [
      "{'ip': '8.8.8.8', 'type': 'ipv4', 'continent_code': 'NA', 'continent_name': 'North America', 'country_code': 'US', 'country_name': 'United States', 'region_code': 'OH', 'region_name': 'Ohio', 'city': 'Glenmont', 'zip': '44628', 'latitude': 40.5369987487793, 'longitude': -82.12859344482422, 'location': {'geoname_id': None, 'capital': 'Washington D.C.', 'languages': [{'code': 'en', 'name': 'English', 'native': 'English'}], 'country_flag': 'https://assets.ipstack.com/flags/us.svg', 'country_flag_emoji': '🇺🇸', 'country_flag_emoji_unicode': 'U+1F1FA U+1F1F8', 'calling_code': '1', 'is_eu': False}}\n",
      "--------------------------------------------------\n",
      "{'ip': '128.120.0.25', 'type': 'ipv4', 'continent_code': 'NA', 'continent_name': 'North America', 'country_code': 'US', 'country_name': 'United States', 'region_code': 'CA', 'region_name': 'California', 'city': 'Davis', 'zip': '95616', 'latitude': 38.56296157836914, 'longitude': -121.81600952148438, 'location': {'geoname_id': 5341704, 'capital': 'Washington D.C.', 'languages': [{'code': 'en', 'name': 'English', 'native': 'English'}], 'country_flag': 'https://assets.ipstack.com/flags/us.svg', 'country_flag_emoji': '🇺🇸', 'country_flag_emoji_unicode': 'U+1F1FA U+1F1F8', 'calling_code': '1', 'is_eu': False}}\n",
      "--------------------------------------------------\n",
      "{'ip': '128.32.12.14', 'type': 'ipv4', 'continent_code': 'NA', 'continent_name': 'North America', 'country_code': 'US', 'country_name': 'United States', 'region_code': 'CA', 'region_name': 'California', 'city': 'Berkeley', 'zip': '94705', 'latitude': 37.86159896850586, 'longitude': -122.24205017089844, 'location': {'geoname_id': 5327684, 'capital': 'Washington D.C.', 'languages': [{'code': 'en', 'name': 'English', 'native': 'English'}], 'country_flag': 'https://assets.ipstack.com/flags/us.svg', 'country_flag_emoji': '🇺🇸', 'country_flag_emoji_unicode': 'U+1F1FA U+1F1F8', 'calling_code': '1', 'is_eu': False}}\n",
      "--------------------------------------------------\n",
      "{'ip': '64.165.72.144', 'type': 'ipv4', 'continent_code': 'NA', 'continent_name': 'North America', 'country_code': 'US', 'country_name': 'United States', 'region_code': 'CA', 'region_name': 'California', 'city': 'Florin', 'zip': '95819', 'latitude': 38.57093048095703, 'longitude': -121.4357681274414, 'location': {'geoname_id': 5349613, 'capital': 'Washington D.C.', 'languages': [{'code': 'en', 'name': 'English', 'native': 'English'}], 'country_flag': 'https://assets.ipstack.com/flags/us.svg', 'country_flag_emoji': '🇺🇸', 'country_flag_emoji_unicode': 'U+1F1FA U+1F1F8', 'calling_code': '1', 'is_eu': False}}\n",
      "--------------------------------------------------\n",
      "{'ip': '71.204.188.203', 'type': 'ipv4', 'continent_code': 'NA', 'continent_name': 'North America', 'country_code': 'US', 'country_name': 'United States', 'region_code': 'CA', 'region_name': 'California', 'city': 'San Francisco', 'zip': '94117', 'latitude': 37.769168853759766, 'longitude': -122.44249725341797, 'location': {'geoname_id': 5391959, 'capital': 'Washington D.C.', 'languages': [{'code': 'en', 'name': 'English', 'native': 'English'}], 'country_flag': 'https://assets.ipstack.com/flags/us.svg', 'country_flag_emoji': '🇺🇸', 'country_flag_emoji_unicode': 'U+1F1FA U+1F1F8', 'calling_code': '1', 'is_eu': False}}\n",
      "--------------------------------------------------\n"
     ]
    }
   ],
   "source": [
    "# Send request to each link and print the result\n",
    "for url in url_list:\n",
    "    \n",
    "    # Pause between two requests\n",
    "    time.sleep(5)\n",
    "    \n",
    "    # Send the get requesr\n",
    "    response = requests.get(url, params=params)\n",
    "    \n",
    "    # Extract the content\n",
    "    doc = BeautifulSoup(response.content, 'html.parser')\n",
    "    ip_dict = json.loads(str(doc))\n",
    "    \n",
    "    # Print the result\n",
    "    print(ip_dict)\n",
    "    print('--------------------------------------------------')"
   ]
  },
  {
   "cell_type": "markdown",
   "id": "bd29a598",
   "metadata": {},
   "source": [
    "### JSON Parsing"
   ]
  },
  {
   "cell_type": "code",
   "execution_count": 50,
   "id": "06186610",
   "metadata": {},
   "outputs": [],
   "source": [
    "# Create a list to store the information\n",
    "ip_list = []"
   ]
  },
  {
   "cell_type": "code",
   "execution_count": 52,
   "id": "34ac50a3",
   "metadata": {},
   "outputs": [],
   "source": [
    "# Repeat the request to each link and store the result\n",
    "for url in url_list:\n",
    "    \n",
    "    # Pause between two requests\n",
    "    time.sleep(5)\n",
    "    \n",
    "    # Send the get requesr\n",
    "    response = requests.get(url, params=params)\n",
    "    \n",
    "    # Extract the content\n",
    "    doc = BeautifulSoup(response.content, 'html.parser')\n",
    "    ip_dict = json.loads(str(doc))\n",
    "    \n",
    "    # Extract specific information\n",
    "    ip_info = {\n",
    "    'ip': ip_dict['ip'],\n",
    "    'city': ip_dict['city'],\n",
    "    'zip': ip_dict['zip']\n",
    "    }\n",
    "    \n",
    "    # Store the information to ip_list\n",
    "    ip_list.append(ip_info)"
   ]
  },
  {
   "cell_type": "code",
   "execution_count": 55,
   "id": "2ba5b364",
   "metadata": {},
   "outputs": [
    {
     "data": {
      "text/plain": [
       "[{'ip': '8.8.8.8', 'city': 'Glenmont', 'zip': '44628'},\n",
       " {'ip': '128.120.0.25', 'city': 'Davis', 'zip': '95616'},\n",
       " {'ip': '128.32.12.14', 'city': 'Berkeley', 'zip': '94705'},\n",
       " {'ip': '64.165.72.144', 'city': 'Florin', 'zip': '95819'},\n",
       " {'ip': '71.204.188.203', 'city': 'San Francisco', 'zip': '94117'}]"
      ]
     },
     "execution_count": 55,
     "metadata": {},
     "output_type": "execute_result"
    }
   ],
   "source": [
    "# Print the list\n",
    "ip_list"
   ]
  },
  {
   "cell_type": "code",
   "execution_count": 57,
   "id": "bcd43cfc",
   "metadata": {},
   "outputs": [
    {
     "name": "stdout",
     "output_type": "stream",
     "text": [
      "Glenmont 44628\n",
      "Davis 95616\n",
      "Berkeley 94705\n",
      "Florin 95819\n",
      "San Francisco 94117\n"
     ]
    }
   ],
   "source": [
    "# Print the city and zip field\n",
    "for ip in ip_list:\n",
    "    print(ip['city'], ip['zip'])"
   ]
  },
  {
   "cell_type": "markdown",
   "id": "06c493bb",
   "metadata": {},
   "source": [
    "### Data Storage Enhancement"
   ]
  },
  {
   "cell_type": "code",
   "execution_count": 59,
   "id": "ad6a5d1e",
   "metadata": {},
   "outputs": [],
   "source": [
    "# Insert documents to collection\n",
    "for ip in ip_list:\n",
    "    collection.insert_one(ip)"
   ]
  },
  {
   "cell_type": "code",
   "execution_count": 61,
   "id": "8a81b84d",
   "metadata": {},
   "outputs": [
    {
     "name": "stdout",
     "output_type": "stream",
     "text": [
      "{'_id': ObjectId('65f0e26306617cd89f386350'), 'ip': '192.168.1.1', 'city': 'Davis', 'zip': '95616'}\n",
      "{'_id': ObjectId('65f0f4c006617cd89f386351'), 'ip': '8.8.8.8', 'city': 'Glenmont', 'zip': '44628'}\n",
      "{'_id': ObjectId('65f0f4c006617cd89f386352'), 'ip': '128.120.0.25', 'city': 'Davis', 'zip': '95616'}\n",
      "{'_id': ObjectId('65f0f4c006617cd89f386353'), 'ip': '128.32.12.14', 'city': 'Berkeley', 'zip': '94705'}\n",
      "{'_id': ObjectId('65f0f4c006617cd89f386354'), 'ip': '64.165.72.144', 'city': 'Florin', 'zip': '95819'}\n",
      "{'_id': ObjectId('65f0f4c006617cd89f386355'), 'ip': '71.204.188.203', 'city': 'San Francisco', 'zip': '94117'}\n"
     ]
    }
   ],
   "source": [
    "# Print the collection\n",
    "for document in collection.find():\n",
    "    print(document)"
   ]
  }
 ],
 "metadata": {
  "kernelspec": {
   "display_name": "Python 3 (ipykernel)",
   "language": "python",
   "name": "python3"
  },
  "language_info": {
   "codemirror_mode": {
    "name": "ipython",
    "version": 3
   },
   "file_extension": ".py",
   "mimetype": "text/x-python",
   "name": "python",
   "nbconvert_exporter": "python",
   "pygments_lexer": "ipython3",
   "version": "3.11.5"
  }
 },
 "nbformat": 4,
 "nbformat_minor": 5
}
